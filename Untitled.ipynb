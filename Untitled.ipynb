{
 "cells": [
  {
   "cell_type": "code",
   "execution_count": 150,
   "metadata": {},
   "outputs": [],
   "source": [
    "import numpy as np\n",
    "import matplotlib.pyplot as plt\n",
    "from numpy import linalg\n",
    "from matplotlib.widgets import Slider, Button"
   ]
  },
  {
   "cell_type": "code",
   "execution_count": 155,
   "metadata": {},
   "outputs": [
    {
     "data": {
      "image/png": "[encoded data removed]",
      "text/plain": [
       "<Figure size 432x288 with 2 Axes>"
      ]
     },
     "metadata": {
      "needs_background": "light"
     },
     "output_type": "display_data"
    }
   ],
   "source": [
    "t=1\n",
    "d=2\n",
    "theta = 0.2\n",
    "w = np.linspace(-3,3,1000)\n",
    "def a(value):\n",
    "    m = np.empty([3,1000])\n",
    "    for i in range(1000):\n",
    "        m[0,i] = np.sort(np.roots([1,-4,3-(w**2)[i],2-w[i]*np.cos(value)]))[0]\n",
    "        m[1,i] = np.sort(np.roots([1,-4,3-(w**2)[i],2-w[i]*np.cos(value)]))[1]\n",
    "        m[2,i] = np.sort(np.roots([1,-4,3-(w**2)[i],2-w[i]*np.cos(value)]))[2]\n",
    "    return m\n",
    "\n",
    "fig = plt.figure()\n",
    "ax = fig.add_subplot(111)\n",
    "fig.subplots_adjust(left=0.25, bottom=0.25)\n",
    "\n",
    "theta_0 = np.pi\n",
    "[line1] = ax.plot(w,a(theta)[0])\n",
    "[line2] = ax.plot(w,a(theta)[1])\n",
    "[line3] = ax.plot(w,a(theta)[2])\n",
    "\n",
    "theta_slider_ax  = fig.add_axes([0.25, 0.15, 0.65, 0.03])\n",
    "theta_slider = Slider(theta_slider_ax, r'$\\theta$', 0.1, 10.0, valinit=theta_0)\n",
    "\n",
    "def sliders_on_changed(val):\n",
    "    line1.set_ydata(a(theta_slider.val))\n",
    "    line2.set_ydata(a(theta_slider.val))\n",
    "    line3.set_ydata(a(theta_slider.val))\n",
    "    fig.canvas.draw_idle()\n",
    "theta_slider.on_changed(sliders_on_changed)\n",
    "\n",
    "plt.show()"
   ]
  },
  {
   "cell_type": "code",
   "execution_count": 55,
   "metadata": {},
   "outputs": [
    {
     "data": {
      "text/plain": [
       "5.374963076468572"
      ]
     },
     "execution_count": 55,
     "metadata": {},
     "output_type": "execute_result"
    }
   ],
   "source": [
    "np.roots([1,-4,3-(3.2**2),2-3.2*np.cos(0.5)])[0]"
   ]
  },
  {
   "cell_type": "code",
   "execution_count": 70,
   "metadata": {},
   "outputs": [
    {
     "data": {
      "text/plain": [
       "-6.0"
      ]
     },
     "execution_count": 70,
     "metadata": {},
     "output_type": "execute_result"
    }
   ],
   "source": [
    "w = np.linspace(0,3,100)\n",
    "a = 3-(w**2)[99]\n",
    "a"
   ]
  },
  {
   "cell_type": "code",
   "execution_count": 85,
   "metadata": {},
   "outputs": [
    {
     "data": {
      "text/plain": [
       "1.0"
      ]
     },
     "execution_count": 85,
     "metadata": {},
     "output_type": "execute_result"
    }
   ],
   "source": [
    "a = np.empty([2,])\n",
    "a[1]"
   ]
  },
  {
   "cell_type": "code",
   "execution_count": null,
   "metadata": {},
   "outputs": [],
   "source": [
    "np.roots"
   ]
  }
 ],
 "metadata": {
  "kernelspec": {
   "display_name": "Python 3",
   "language": "python",
   "name": "python3"
  },
  "language_info": {
   "codemirror_mode": {
    "name": "ipython",
    "version": 3
   },
   "file_extension": ".py",
   "mimetype": "text/x-python",
   "name": "python",
   "nbconvert_exporter": "python",
   "pygments_lexer": "ipython3",
   "version": "3.6.6"
  }
 },
 "nbformat": 4,
 "nbformat_minor": 2
}
